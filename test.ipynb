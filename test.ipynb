{
 "cells": [
  {
   "cell_type": "code",
   "execution_count": 21,
   "metadata": {},
   "outputs": [
    {
     "name": "stdout",
     "output_type": "stream",
     "text": [
      "Requirement already satisfied: line-profiler in c:\\users\\vinit\\appdata\\local\\packages\\pythonsoftwarefoundation.python.3.10_qbz5n2kfra8p0\\localcache\\local-packages\\python310\\site-packages (4.2.0)\n"
     ]
    },
    {
     "name": "stderr",
     "output_type": "stream",
     "text": [
      "\n",
      "[notice] A new release of pip is available: 23.3.2 -> 25.0.1\n",
      "[notice] To update, run: C:\\Users\\vinit\\AppData\\Local\\Microsoft\\WindowsApps\\PythonSoftwareFoundation.Python.3.10_qbz5n2kfra8p0\\python.exe -m pip install --upgrade pip\n"
     ]
    },
    {
     "name": "stdout",
     "output_type": "stream",
     "text": [
      "Requirement already satisfied: pip in c:\\users\\vinit\\appdata\\local\\packages\\pythonsoftwarefoundation.python.3.10_qbz5n2kfra8p0\\localcache\\local-packages\\python310\\site-packages (23.3.2)\n",
      "Collecting pip\n",
      "  Downloading pip-25.0.1-py3-none-any.whl.metadata (3.7 kB)\n",
      "Downloading pip-25.0.1-py3-none-any.whl (1.8 MB)\n",
      "   ---------------------------------------- 0.0/1.8 MB ? eta -:--:--\n",
      "   ------------ --------------------------- 0.6/1.8 MB 11.5 MB/s eta 0:00:01\n",
      "   --------------- ------------------------ 0.7/1.8 MB 7.6 MB/s eta 0:00:01\n",
      "   ------------------- -------------------- 0.9/1.8 MB 6.4 MB/s eta 0:00:01\n",
      "   -------------------- ------------------- 0.9/1.8 MB 6.6 MB/s eta 0:00:01\n",
      "   -------------------- ------------------- 0.9/1.8 MB 6.6 MB/s eta 0:00:01\n",
      "   ---------------------- ----------------- 1.0/1.8 MB 3.9 MB/s eta 0:00:01\n",
      "   ----------------------------------- ---- 1.6/1.8 MB 5.2 MB/s eta 0:00:01\n",
      "   -------------------------------------- - 1.8/1.8 MB 4.9 MB/s eta 0:00:01\n",
      "   ---------------------------------------- 1.8/1.8 MB 4.7 MB/s eta 0:00:00\n",
      "Installing collected packages: pip\n",
      "  Attempting uninstall: pip\n",
      "    Found existing installation: pip 23.3.2\n",
      "    Uninstalling pip-23.3.2:\n",
      "      Successfully uninstalled pip-23.3.2\n",
      "Successfully installed pip-25.0.1\n"
     ]
    }
   ],
   "source": [
    "!pip install line-profiler\n",
    "!python3 -m pip install --upgrade pip"
   ]
  },
  {
   "cell_type": "code",
   "execution_count": 24,
   "metadata": {},
   "outputs": [
    {
     "name": "stdout",
     "output_type": "stream",
     "text": [
      "Collecting memory-profiler\n",
      "  Downloading memory_profiler-0.61.0-py3-none-any.whl.metadata (20 kB)\n",
      "Requirement already satisfied: psutil in c:\\users\\vinit\\appdata\\local\\packages\\pythonsoftwarefoundation.python.3.10_qbz5n2kfra8p0\\localcache\\local-packages\\python310\\site-packages (from memory-profiler) (5.9.6)\n",
      "Downloading memory_profiler-0.61.0-py3-none-any.whl (31 kB)\n",
      "Installing collected packages: memory-profiler\n",
      "Successfully installed memory-profiler-0.61.0\n"
     ]
    }
   ],
   "source": [
    "!pip install memory-profiler\n"
   ]
  },
  {
   "cell_type": "code",
   "execution_count": 37,
   "metadata": {},
   "outputs": [],
   "source": [
    "import timeit"
   ]
  },
  {
   "cell_type": "code",
   "execution_count": 38,
   "metadata": {},
   "outputs": [
    {
     "name": "stdout",
     "output_type": "stream",
     "text": [
      "[[10, 10, 10], [10, 10, 10], [10, 10, 10]]\n"
     ]
    }
   ],
   "source": [
    "def matrix_addition(A,B):\n",
    "    C = []\n",
    "    for i in range(len(A)):\n",
    "        C.append([])\n",
    "        for j in range(len(A[i])):\n",
    "            C[i].append(A[i][j] + B[i][j])\n",
    "\n",
    "    return C\n",
    "\n",
    "a = [[1,2,3],[4,5,6],[7,8,9]]\n",
    "b = [[9,8,7],[6,5,4],[3,2,1]]\n",
    "\n",
    "print(matrix_addition(a,b))\n"
   ]
  },
  {
   "cell_type": "code",
   "execution_count": 39,
   "metadata": {},
   "outputs": [
    {
     "name": "stdout",
     "output_type": "stream",
     "text": [
      "Mul Operation = 64\n",
      "Add Operation = 64\n",
      "Total Operation = 128\n",
      "MUL = [[250, 260, 270, 280], [618, 644, 670, 696], [986, 1028, 1070, 1112], [1354, 1412, 1470, 1528]]\n"
     ]
    }
   ],
   "source": [
    "def matrix_multiplication_count(A, B):\n",
    "    C = []\n",
    "    num_mult = 0\n",
    "    num_add = 0\n",
    "\n",
    "    for i in range(len(A)):  # m\n",
    "        C.append([])\n",
    "        for j in range(len(B[0])):  # p\n",
    "            C[i].append(0)\n",
    "            for k in range(len(B)):  # n\n",
    "                C[i][j] += A[i][k] * B[k][j]\n",
    "                num_mult += 1  # Counting multiplications\n",
    "                num_add += 1  # Counting additions\n",
    "    \n",
    "    return C, num_mult, num_add\n",
    "\n",
    "# Sample matrices\n",
    "a = [[1,2,3,4],[5,6,7,8],[9,10,11,12], [13,14,15,16]]\n",
    "b = [[17,18,19,20],[21,22,23,24],[25,26,27,28], [29,30,31,32]]\n",
    "\n",
    "C, mults, adds = matrix_multiplication_count(a, b)\n",
    "\n",
    "print(f\"Mul Operation = {mults}\\nAdd Operation = {adds}\\nTotal Operation = {mults + adds}\")\n",
    "print(f'MUL = {C}')\n"
   ]
  },
  {
   "cell_type": "code",
   "execution_count": 40,
   "metadata": {},
   "outputs": [
    {
     "name": "stdout",
     "output_type": "stream",
     "text": [
      "Avg Execution Time: 0.000033192000 seconds\n"
     ]
    }
   ],
   "source": [
    "execution_time = timeit.timeit(lambda: matrix_multiplication_count(a,b), number=100) / 100\n",
    "print(f\"Avg Execution Time: {execution_time:.12f} seconds\")"
   ]
  },
  {
   "cell_type": "code",
   "execution_count": 41,
   "metadata": {},
   "outputs": [
    {
     "name": "stdout",
     "output_type": "stream",
     "text": [
      "([[250, 260, 270, 280], [618, 644, 670, 696], [986, 1028, 1070, 1112], [1354, 1412, 1470, 1528]], 64, 64)\n",
      "Execution Time: 0.001251697540 seconds\n",
      "CPU Usage Before: 32.9% | After: 72.4%\n",
      "Memory Used: -0.238281250000 MB\n"
     ]
    }
   ],
   "source": [
    "import psutil\n",
    "import time\n",
    "\n",
    "# Get initial CPU and RAM usage\n",
    "cpu_before = psutil.cpu_percent(interval=0.1)\n",
    "ram_before = psutil.virtual_memory().used\n",
    "\n",
    "start_time = time.time()\n",
    "C = matrix_multiplication_count(a, b)\n",
    "print (C)\n",
    "end_time = time.time()\n",
    "\n",
    "# Get final CPU and RAM usage\n",
    "cpu_after = psutil.cpu_percent(interval=0.1)\n",
    "ram_after = psutil.virtual_memory().used\n",
    "\n",
    "execution_time = end_time - start_time\n",
    "ram_used = (ram_after - ram_before) / (1024 * 1024)  # Convert to MB\n",
    "\n",
    "print(f\"Execution Time: {execution_time:.12f} seconds\")\n",
    "print(f\"CPU Usage Before: {cpu_before}% | After: {cpu_after}%\")\n",
    "print(f\"Memory Used: {ram_used:.12f} MB\")"
   ]
  },
  {
   "cell_type": "code",
   "execution_count": 42,
   "metadata": {},
   "outputs": [
    {
     "name": "stdout",
     "output_type": "stream",
     "text": [
      "         45 function calls in 0.000 seconds\n",
      "\n",
      "   Ordered by: standard name\n",
      "\n",
      "   ncalls  tottime  percall  cumtime  percall filename:lineno(function)\n",
      "        1    0.000    0.000    0.000    0.000 787158366.py:1(matrix_multiplication_count)\n",
      "        1    0.000    0.000    0.000    0.000 <string>:1(<module>)\n",
      "        1    0.000    0.000    0.000    0.000 {built-in method builtins.exec}\n",
      "       21    0.000    0.000    0.000    0.000 {built-in method builtins.len}\n",
      "       20    0.000    0.000    0.000    0.000 {method 'append' of 'list' objects}\n",
      "        1    0.000    0.000    0.000    0.000 {method 'disable' of '_lsprof.Profiler' objects}\n",
      "\n",
      "\n"
     ]
    }
   ],
   "source": [
    "import cProfile\n",
    "\n",
    "cProfile.run('matrix_multiplication_count(a, b)')"
   ]
  },
  {
   "cell_type": "code",
   "execution_count": 43,
   "metadata": {},
   "outputs": [
    {
     "name": "stdout",
     "output_type": "stream",
     "text": [
      "Timer unit: 1e-07 s\n",
      "\n",
      "Total time: 0.0003269 s\n",
      "File: C:\\Users\\vinit\\AppData\\Local\\Temp\\ipykernel_31580\\787158366.py\n",
      "Function: matrix_multiplication_count at line 1\n",
      "\n",
      "Line #      Hits         Time  Per Hit   % Time  Line Contents\n",
      "==============================================================\n",
      "     1                                           def matrix_multiplication_count(A, B):\n",
      "     2         1         12.0     12.0      0.4      C = []\n",
      "     3         1          7.0      7.0      0.2      num_mult = 0\n",
      "     4         1          4.0      4.0      0.1      num_add = 0\n",
      "     5                                           \n",
      "     6         5         81.0     16.2      2.5      for i in range(len(A)):  # m\n",
      "     7         4         53.0     13.2      1.6          C.append([])\n",
      "     8        20        194.0      9.7      5.9          for j in range(len(B[0])):  # p\n",
      "     9        16        166.0     10.4      5.1              C[i].append(0)\n",
      "    10        80        707.0      8.8     21.6              for k in range(len(B)):  # n\n",
      "    11        64       1064.0     16.6     32.5                  C[i][j] += A[i][k] * B[k][j]\n",
      "    12        64        476.0      7.4     14.6                  num_mult += 1  # Counting multiplications\n",
      "    13        64        486.0      7.6     14.9                  num_add += 1  # Counting additions\n",
      "    14                                               \n",
      "    15         1         19.0     19.0      0.6      return C, num_mult, num_add\n",
      "\n"
     ]
    }
   ],
   "source": [
    "from line_profiler import LineProfiler\n",
    "\n",
    "lp = LineProfiler()\n",
    "lp.add_function(matrix_multiplication_count)\n",
    "lp.enable()\n",
    "C = matrix_multiplication_count(a, b)\n",
    "lp.disable()\n",
    "lp.print_stats()"
   ]
  },
  {
   "cell_type": "code",
   "execution_count": 44,
   "metadata": {},
   "outputs": [
    {
     "name": "stdout",
     "output_type": "stream",
     "text": [
      "ERROR: Could not find file C:\\Users\\vinit\\AppData\\Local\\Temp\\ipykernel_31580\\3644038228.py\n",
      "Mul Operation = 64\n",
      "Add Operation = 64\n",
      "Total Operation = 128\n",
      "MUL = [[250, 260, 270, 280], [618, 644, 670, 696], [986, 1028, 1070, 1112], [1354, 1412, 1470, 1528]]\n",
      "The memory_profiler extension is already loaded. To reload it, use:\n",
      "  %reload_ext memory_profiler\n",
      "ERROR: Could not find file C:\\Users\\vinit\\AppData\\Local\\Temp\\ipykernel_31580\\3644038228.py\n",
      "\n"
     ]
    },
    {
     "name": "stdout",
     "output_type": "stream",
     "text": [
      "Filename: C:\\Users\\vinit\\AppData\\Local\\Packages\\PythonSoftwareFoundation.Python.3.10_qbz5n2kfra8p0\\LocalCache\\local-packages\\Python310\\site-packages\\memory_profiler.py\n",
      "\n",
      "Line #    Mem usage    Increment  Occurrences   Line Contents\n",
      "=============================================================\n",
      "  1185    103.9 MiB    103.9 MiB           1               @wraps(wrapped=func)\n",
      "  1186                                                     def wrapper(*args, **kwargs):\n",
      "  1187    103.9 MiB      0.0 MiB           1                   prof = get_prof()\n",
      "  1188    103.9 MiB      0.0 MiB           1                   val = prof(func)(*args, **kwargs)\n",
      "  1189    103.9 MiB      0.0 MiB           1                   show_results_bound(prof)\n",
      "  1190    103.9 MiB      0.0 MiB           1                   return val"
     ]
    }
   ],
   "source": [
    "from memory_profiler import profile\n",
    "\n",
    "@profile\n",
    "def matrix_multiplication_count(A, B):\n",
    "    C = []\n",
    "    num_mult = 0\n",
    "    num_add = 0\n",
    "\n",
    "    for i in range(len(A)):  # m\n",
    "        C.append([])\n",
    "        for j in range(len(B[0])):  # p\n",
    "            C[i].append(0)\n",
    "            for k in range(len(B)):  # n\n",
    "                C[i][j] += A[i][k] * B[k][j]\n",
    "                num_mult += 1  # Counting multiplications\n",
    "                num_add += 1  # Counting additions\n",
    "    \n",
    "    return C, num_mult, num_add\n",
    "\n",
    "# Sample matrices\n",
    "a = [[1,2,3,4],[5,6,7,8],[9,10,11,12], [13,14,15,16]]\n",
    "b = [[17,18,19,20],[21,22,23,24],[25,26,27,28], [29,30,31,32]]\n",
    "\n",
    "C, mults, adds = matrix_multiplication_count(a, b)\n",
    "\n",
    "print(f\"Mul Operation = {mults}\\nAdd Operation = {adds}\\nTotal Operation = {mults + adds}\")\n",
    "print(f'MUL = {C}')\n",
    "\n",
    "\n",
    "%load_ext memory_profiler\n",
    "%mprun -f matrix_multiplication_count matrix_multiplication_count(a, b)\n"
   ]
  },
  {
   "cell_type": "code",
   "execution_count": 45,
   "metadata": {},
   "outputs": [
    {
     "name": "stdout",
     "output_type": "stream",
     "text": [
      "Execution Time: 0.000000000000 seconds\n",
      "MUL = [[ 250  260  270  280]\n",
      " [ 618  644  670  696]\n",
      " [ 986 1028 1070 1112]\n",
      " [1354 1412 1470 1528]]\n"
     ]
    }
   ],
   "source": [
    "import numpy as np\n",
    "\n",
    "a = np.array([[1,2,3,4],[5,6,7,8],[9,10,11,12], [13,14,15,16]])\n",
    "b = np.array([[17,18,19,20],[21,22,23,24],[25,26,27,28], [29,30,31,32]])\n",
    "\n",
    "start_time = time.time()\n",
    "c = np.dot(a, b)\n",
    "end_time = time.time()\n",
    "\n",
    "execution_time = end_time - start_time\n",
    "print(f\"Execution Time: {execution_time:.12f} seconds\")\n",
    "print(f'MUL = {c}')\n"
   ]
  },
  {
   "cell_type": "code",
   "execution_count": 1,
   "metadata": {},
   "outputs": [
    {
     "name": "stdout",
     "output_type": "stream",
     "text": [
      "Mul Operation = 64\n",
      "Add Operation = 64\n",
      "Total Operation = 128\n",
      "MUL = [[250, 260, 270, 280], [618, 644, 670, 696], [986, 1028, 1070, 1112], [1354, 1412, 1470, 1528]]\n",
      "-------------------------------\n",
      "  4           0 BUILD_LIST               0\n",
      "              2 STORE_FAST               2 (C)\n",
      "\n",
      "  5           4 LOAD_CONST               1 (0)\n",
      "              6 STORE_FAST               3 (num_mult)\n",
      "\n",
      "  6           8 LOAD_CONST               1 (0)\n",
      "             10 STORE_FAST               4 (num_add)\n",
      "\n",
      "  8          12 LOAD_GLOBAL              0 (range)\n",
      "             14 LOAD_GLOBAL              1 (len)\n",
      "             16 LOAD_FAST                0 (A)\n",
      "             18 CALL_FUNCTION            1\n",
      "             20 CALL_FUNCTION            1\n",
      "             22 GET_ITER\n",
      "        >>   24 FOR_ITER                62 (to 150)\n",
      "             26 STORE_FAST               5 (i)\n",
      "\n",
      "  9          28 LOAD_FAST                2 (C)\n",
      "             30 LOAD_METHOD              2 (append)\n",
      "             32 BUILD_LIST               0\n",
      "             34 CALL_METHOD              1\n",
      "             36 POP_TOP\n",
      "\n",
      " 10          38 LOAD_GLOBAL              0 (range)\n",
      "             40 LOAD_GLOBAL              1 (len)\n",
      "             42 LOAD_FAST                1 (B)\n",
      "             44 LOAD_CONST               1 (0)\n",
      "             46 BINARY_SUBSCR\n",
      "             48 CALL_FUNCTION            1\n",
      "             50 CALL_FUNCTION            1\n",
      "             52 GET_ITER\n",
      "        >>   54 FOR_ITER                46 (to 148)\n",
      "             56 STORE_FAST               6 (j)\n",
      "\n",
      " 11          58 LOAD_FAST                2 (C)\n",
      "             60 LOAD_FAST                5 (i)\n",
      "             62 BINARY_SUBSCR\n",
      "             64 LOAD_METHOD              2 (append)\n",
      "             66 LOAD_CONST               1 (0)\n",
      "             68 CALL_METHOD              1\n",
      "             70 POP_TOP\n",
      "\n",
      " 12          72 LOAD_GLOBAL              0 (range)\n",
      "             74 LOAD_GLOBAL              1 (len)\n",
      "             76 LOAD_FAST                1 (B)\n",
      "             78 CALL_FUNCTION            1\n",
      "             80 CALL_FUNCTION            1\n",
      "             82 GET_ITER\n",
      "        >>   84 FOR_ITER                30 (to 146)\n",
      "             86 STORE_FAST               7 (k)\n",
      "\n",
      " 13          88 LOAD_FAST                2 (C)\n",
      "             90 LOAD_FAST                5 (i)\n",
      "             92 BINARY_SUBSCR\n",
      "             94 LOAD_FAST                6 (j)\n",
      "             96 DUP_TOP_TWO\n",
      "             98 BINARY_SUBSCR\n",
      "            100 LOAD_FAST                0 (A)\n",
      "            102 LOAD_FAST                5 (i)\n",
      "            104 BINARY_SUBSCR\n",
      "            106 LOAD_FAST                7 (k)\n",
      "            108 BINARY_SUBSCR\n",
      "            110 LOAD_FAST                1 (B)\n",
      "            112 LOAD_FAST                7 (k)\n",
      "            114 BINARY_SUBSCR\n",
      "            116 LOAD_FAST                6 (j)\n",
      "            118 BINARY_SUBSCR\n",
      "            120 BINARY_MULTIPLY\n",
      "            122 INPLACE_ADD\n",
      "            124 ROT_THREE\n",
      "            126 STORE_SUBSCR\n",
      "\n",
      " 14         128 LOAD_FAST                3 (num_mult)\n",
      "            130 LOAD_CONST               2 (1)\n",
      "            132 INPLACE_ADD\n",
      "            134 STORE_FAST               3 (num_mult)\n",
      "\n",
      " 15         136 LOAD_FAST                4 (num_add)\n",
      "            138 LOAD_CONST               2 (1)\n",
      "            140 INPLACE_ADD\n",
      "            142 STORE_FAST               4 (num_add)\n",
      "            144 JUMP_ABSOLUTE           42 (to 84)\n",
      "\n",
      " 12     >>  146 JUMP_ABSOLUTE           27 (to 54)\n",
      "\n",
      " 10     >>  148 JUMP_ABSOLUTE           12 (to 24)\n",
      "\n",
      " 17     >>  150 LOAD_FAST                2 (C)\n",
      "            152 LOAD_FAST                3 (num_mult)\n",
      "            154 LOAD_FAST                4 (num_add)\n",
      "            156 BUILD_TUPLE              3\n",
      "            158 RETURN_VALUE\n",
      "None\n"
     ]
    }
   ],
   "source": [
    "import dis\n",
    "\n",
    "def matrix_multiplication_count(A, B):\n",
    "    C = []\n",
    "    num_mult = 0\n",
    "    num_add = 0\n",
    "\n",
    "    for i in range(len(A)):  # m\n",
    "        C.append([])\n",
    "        for j in range(len(B[0])):  # p\n",
    "            C[i].append(0)\n",
    "            for k in range(len(B)):  # n\n",
    "                C[i][j] += A[i][k] * B[k][j]\n",
    "                num_mult += 1  # Counting multiplications\n",
    "                num_add += 1  # Counting additions\n",
    "    \n",
    "    return C, num_mult, num_add\n",
    "\n",
    "# Sample matrices\n",
    "a = [[1,2,3,4],[5,6,7,8],[9,10,11,12], [13,14,15,16]]\n",
    "b = [[17,18,19,20],[21,22,23,24],[25,26,27,28], [29,30,31,32]]\n",
    "\n",
    "C, mults, adds = matrix_multiplication_count(a, b)\n",
    "\n",
    "print(f\"Mul Operation = {mults}\\nAdd Operation = {adds}\\nTotal Operation = {mults + adds}\")\n",
    "print(f'MUL = {C}\\n-------------------------------')\n",
    "\n",
    "print(dis.dis(matrix_multiplication_count))"
   ]
  }
 ],
 "metadata": {
  "kernelspec": {
   "display_name": "Python 3",
   "language": "python",
   "name": "python3"
  },
  "language_info": {
   "codemirror_mode": {
    "name": "ipython",
    "version": 3
   },
   "file_extension": ".py",
   "mimetype": "text/x-python",
   "name": "python",
   "nbconvert_exporter": "python",
   "pygments_lexer": "ipython3",
   "version": "3.10.11"
  }
 },
 "nbformat": 4,
 "nbformat_minor": 2
}
